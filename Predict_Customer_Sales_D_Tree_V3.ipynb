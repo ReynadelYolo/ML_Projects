{
  "nbformat": 4,
  "nbformat_minor": 0,
  "metadata": {
    "colab": {
      "provenance": [],
      "authorship_tag": "ABX9TyMEDLBAH4qw69JukYojW2TR",
      "include_colab_link": true
    },
    "kernelspec": {
      "name": "python3",
      "display_name": "Python 3"
    },
    "language_info": {
      "name": "python"
    }
  },
  "cells": [
    {
      "cell_type": "markdown",
      "metadata": {
        "id": "view-in-github",
        "colab_type": "text"
      },
      "source": [
        "<a href=\"https://colab.research.google.com/github/ReynadelYolo/ML_Projects/blob/main/Predict_Customer_Sales_D_Tree_V3.ipynb\" target=\"_parent\"><img src=\"https://colab.research.google.com/assets/colab-badge.svg\" alt=\"Open In Colab\"/></a>"
      ]
    },
    {
      "cell_type": "code",
      "execution_count": 1,
      "metadata": {
        "colab": {
          "base_uri": "https://localhost:8080/"
        },
        "id": "Jhe2isLXFNYR",
        "outputId": "c74b1cca-a8bc-4e22-e377-a28e7c584d37"
      },
      "outputs": [
        {
          "output_type": "stream",
          "name": "stdout",
          "text": [
            "Mounted at /content/drive\n"
          ]
        }
      ],
      "source": [
        "from google.colab import drive\n",
        "drive.mount('/content/drive')"
      ]
    },
    {
      "cell_type": "code",
      "source": [
        "%cd /content/drive/MyDrive/MASTER BSBI/Tree exer\n",
        "%ls"
      ],
      "metadata": {
        "colab": {
          "base_uri": "https://localhost:8080/"
        },
        "id": "xNNAnkgCFZ3Y",
        "outputId": "6097b660-99df-4021-aae4-926b9138c56f"
      },
      "execution_count": 2,
      "outputs": [
        {
          "output_type": "stream",
          "name": "stdout",
          "text": [
            "/content/drive/MyDrive/MASTER BSBI/Tree exer\n",
            " Customers.csv         'Customers v3.csv'  'Decision Tree.ipynb'   test_set_v3.csv\n",
            "'Customers v2.gsheet'  'Customers v4.csv'   test_set.csv\n"
          ]
        }
      ]
    },
    {
      "cell_type": "code",
      "source": [
        "import pandas"
      ],
      "metadata": {
        "id": "THiXCwdyFcz8"
      },
      "execution_count": 3,
      "outputs": []
    },
    {
      "cell_type": "code",
      "source": [
        "df = pandas.read_csv(\"Customers v4.csv\")\n",
        "\n",
        "print(df)"
      ],
      "metadata": {
        "colab": {
          "base_uri": "https://localhost:8080/"
        },
        "id": "2myXnSX5Fh_5",
        "outputId": "255aaed6-44c2-440b-9909-11112b203904"
      },
      "execution_count": 4,
      "outputs": [
        {
          "output_type": "stream",
          "name": "stdout",
          "text": [
            "       Age  Income Student Credit_rating          G Wear Glasses Buy_computer\n",
            "0    young    high      no          fair  masculino           no           no\n",
            "1    young    high      no     excellent   femenino          yes           no\n",
            "2   middle    high      no          fair  masculino          yes          yes\n",
            "3      old  medium      no          fair   femenino           no          yes\n",
            "4      old     low     yes          fair  masculino           no          yes\n",
            "5      old     low     yes     excellent   femenino          yes           no\n",
            "6   middle     low     yes     excellent  masculino          yes          yes\n",
            "7    young  medium      no          fair   femenino           no           no\n",
            "8    young     low     yes          fair  masculino           no          yes\n",
            "9      old  medium     yes          fair   femenino          yes          yes\n",
            "10   young  medium     yes     excellent  masculino          yes          yes\n",
            "11  middle  medium      no     excellent   femenino           no          yes\n",
            "12  middle    high     yes          fair  masculino           no          yes\n",
            "13     old  medium      no     excellent   femenino          yes           no\n"
          ]
        }
      ]
    },
    {
      "cell_type": "code",
      "source": [
        "df[\"Wear Glasses\"][3]"
      ],
      "metadata": {
        "colab": {
          "base_uri": "https://localhost:8080/",
          "height": 36
        },
        "id": "n8l_g53EFka4",
        "outputId": "44c8baec-0317-461b-dcc6-41c8ac4f560b"
      },
      "execution_count": 5,
      "outputs": [
        {
          "output_type": "execute_result",
          "data": {
            "text/plain": [
              "'no'"
            ],
            "application/vnd.google.colaboratory.intrinsic+json": {
              "type": "string"
            }
          },
          "metadata": {},
          "execution_count": 5
        }
      ]
    },
    {
      "cell_type": "code",
      "source": [
        "d_age = {'young': 0, 'middle': 1, 'old': 2}\n",
        "\n",
        "df['Age'] = df['Age'].map(d_age)\n",
        "print(df)"
      ],
      "metadata": {
        "colab": {
          "base_uri": "https://localhost:8080/"
        },
        "id": "eOcFTYkhFnh3",
        "outputId": "f674c263-9628-449e-9969-20d2f693a76e"
      },
      "execution_count": 6,
      "outputs": [
        {
          "output_type": "stream",
          "name": "stdout",
          "text": [
            "    Age  Income Student Credit_rating          G Wear Glasses Buy_computer\n",
            "0     0    high      no          fair  masculino           no           no\n",
            "1     0    high      no     excellent   femenino          yes           no\n",
            "2     1    high      no          fair  masculino          yes          yes\n",
            "3     2  medium      no          fair   femenino           no          yes\n",
            "4     2     low     yes          fair  masculino           no          yes\n",
            "5     2     low     yes     excellent   femenino          yes           no\n",
            "6     1     low     yes     excellent  masculino          yes          yes\n",
            "7     0  medium      no          fair   femenino           no           no\n",
            "8     0     low     yes          fair  masculino           no          yes\n",
            "9     2  medium     yes          fair   femenino          yes          yes\n",
            "10    0  medium     yes     excellent  masculino          yes          yes\n",
            "11    1  medium      no     excellent   femenino           no          yes\n",
            "12    1    high     yes          fair  masculino           no          yes\n",
            "13    2  medium      no     excellent   femenino          yes           no\n"
          ]
        }
      ]
    },
    {
      "cell_type": "code",
      "source": [
        "d_income = {'high': 2, 'medium': 1, 'low': 0}\n",
        "df['Income'] = df['Income'].map(d_income)\n",
        "\n",
        "d_student = {'no': 0, 'yes': 1}\n",
        "df['Student'] = df['Student'].map(d_student)\n",
        "\n",
        "d_credit_rating = {'fair': 0, 'excellent': 1}\n",
        "df['Credit_rating'] = df['Credit_rating'].map(d_credit_rating)\n",
        "\n",
        "d_gender = {'masculino': 0, 'femenino': 1}\n",
        "df['G'] = df['G'].map(d_gender)\n",
        "\n",
        "d_glasses = {'yes': 0, 'no': 1}\n",
        "df['Wear Glasses'] = df['Wear Glasses'].map(d_glasses)\n",
        "\n",
        "print(df)"
      ],
      "metadata": {
        "colab": {
          "base_uri": "https://localhost:8080/"
        },
        "id": "AqpCTFZIFxsb",
        "outputId": "47ee1821-e09e-4276-ff23-670a672d3bc0"
      },
      "execution_count": 7,
      "outputs": [
        {
          "output_type": "stream",
          "name": "stdout",
          "text": [
            "    Age  Income  Student  Credit_rating  G  Wear Glasses Buy_computer\n",
            "0     0       2        0              0  0             1           no\n",
            "1     0       2        0              1  1             0           no\n",
            "2     1       2        0              0  0             0          yes\n",
            "3     2       1        0              0  1             1          yes\n",
            "4     2       0        1              0  0             1          yes\n",
            "5     2       0        1              1  1             0           no\n",
            "6     1       0        1              1  0             0          yes\n",
            "7     0       1        0              0  1             1           no\n",
            "8     0       0        1              0  0             1          yes\n",
            "9     2       1        1              0  1             0          yes\n",
            "10    0       1        1              1  0             0          yes\n",
            "11    1       1        0              1  1             1          yes\n",
            "12    1       2        1              0  0             1          yes\n",
            "13    2       1        0              1  1             0           no\n"
          ]
        }
      ]
    },
    {
      "cell_type": "code",
      "source": [
        "d_buy_computer = {'no': 0, 'yes': 1}\n",
        "df['Buy_computer'] = df['Buy_computer'].map(d_buy_computer)\n",
        "\n",
        "print(df)"
      ],
      "metadata": {
        "colab": {
          "base_uri": "https://localhost:8080/"
        },
        "id": "ePdV-pGrGRPA",
        "outputId": "0c4b46c7-eb0d-485f-ebbf-0ba497be5704"
      },
      "execution_count": 8,
      "outputs": [
        {
          "output_type": "stream",
          "name": "stdout",
          "text": [
            "    Age  Income  Student  Credit_rating  G  Wear Glasses  Buy_computer\n",
            "0     0       2        0              0  0             1             0\n",
            "1     0       2        0              1  1             0             0\n",
            "2     1       2        0              0  0             0             1\n",
            "3     2       1        0              0  1             1             1\n",
            "4     2       0        1              0  0             1             1\n",
            "5     2       0        1              1  1             0             0\n",
            "6     1       0        1              1  0             0             1\n",
            "7     0       1        0              0  1             1             0\n",
            "8     0       0        1              0  0             1             1\n",
            "9     2       1        1              0  1             0             1\n",
            "10    0       1        1              1  0             0             1\n",
            "11    1       1        0              1  1             1             1\n",
            "12    1       2        1              0  0             1             1\n",
            "13    2       1        0              1  1             0             0\n"
          ]
        }
      ]
    },
    {
      "cell_type": "code",
      "source": [
        "features = [\"Age\", \"Income\", \"Student\", \"Credit_rating\",\"G\",\"Wear Glasses\"]\n",
        "\n",
        "data = df[features]\n",
        "classes = df[\"Buy_computer\"]\n",
        "\n",
        "print(data)\n",
        "print('\\n\\n')\n",
        "print(classes)"
      ],
      "metadata": {
        "colab": {
          "base_uri": "https://localhost:8080/"
        },
        "id": "R8x3Wg_gF84Y",
        "outputId": "af3692ff-161f-4448-b11d-b1188deb8c68"
      },
      "execution_count": 9,
      "outputs": [
        {
          "output_type": "stream",
          "name": "stdout",
          "text": [
            "    Age  Income  Student  Credit_rating  G  Wear Glasses\n",
            "0     0       2        0              0  0             1\n",
            "1     0       2        0              1  1             0\n",
            "2     1       2        0              0  0             0\n",
            "3     2       1        0              0  1             1\n",
            "4     2       0        1              0  0             1\n",
            "5     2       0        1              1  1             0\n",
            "6     1       0        1              1  0             0\n",
            "7     0       1        0              0  1             1\n",
            "8     0       0        1              0  0             1\n",
            "9     2       1        1              0  1             0\n",
            "10    0       1        1              1  0             0\n",
            "11    1       1        0              1  1             1\n",
            "12    1       2        1              0  0             1\n",
            "13    2       1        0              1  1             0\n",
            "\n",
            "\n",
            "\n",
            "0     0\n",
            "1     0\n",
            "2     1\n",
            "3     1\n",
            "4     1\n",
            "5     0\n",
            "6     1\n",
            "7     0\n",
            "8     1\n",
            "9     1\n",
            "10    1\n",
            "11    1\n",
            "12    1\n",
            "13    0\n",
            "Name: Buy_computer, dtype: int64\n"
          ]
        }
      ]
    },
    {
      "cell_type": "code",
      "source": [
        "from sklearn.tree import DecisionTreeClassifier"
      ],
      "metadata": {
        "id": "Hu-rh5FgGcNo"
      },
      "execution_count": 10,
      "outputs": []
    },
    {
      "cell_type": "code",
      "source": [],
      "metadata": {
        "id": "U5nSNDQMGySp"
      },
      "execution_count": 10,
      "outputs": []
    },
    {
      "cell_type": "code",
      "source": [
        "dtree = DecisionTreeClassifier()\n",
        "\n",
        "dtree = dtree.fit(data, classes)"
      ],
      "metadata": {
        "id": "1diEoaeMX5Fh"
      },
      "execution_count": 11,
      "outputs": []
    },
    {
      "cell_type": "code",
      "source": [
        "dtree.predict([[2, 1, 0, 1,1,1]])"
      ],
      "metadata": {
        "id": "f8ylrc_1SMy6",
        "colab": {
          "base_uri": "https://localhost:8080/"
        },
        "outputId": "85b2db5e-67a2-42af-aa9d-9658f180d053"
      },
      "execution_count": 16,
      "outputs": [
        {
          "output_type": "stream",
          "name": "stderr",
          "text": [
            "/usr/local/lib/python3.11/dist-packages/sklearn/utils/validation.py:2739: UserWarning: X does not have valid feature names, but DecisionTreeClassifier was fitted with feature names\n",
            "  warnings.warn(\n"
          ]
        },
        {
          "output_type": "execute_result",
          "data": {
            "text/plain": [
              "array([1])"
            ]
          },
          "metadata": {},
          "execution_count": 16
        }
      ]
    },
    {
      "cell_type": "code",
      "source": [
        "test = pandas.read_csv(\"/content/drive/MyDrive/MASTER BSBI/Tree exer/test_set_v3.csv\")\n",
        "\n",
        "print(test)"
      ],
      "metadata": {
        "colab": {
          "base_uri": "https://localhost:8080/"
        },
        "id": "sciOY-WkKDFm",
        "outputId": "c8dae22b-8be2-46de-842c-e39277a4783c"
      },
      "execution_count": 13,
      "outputs": [
        {
          "output_type": "stream",
          "name": "stdout",
          "text": [
            "   Age Income Student Credit_rating         G Wear Glasses\n",
            "0  old    low     yes          fair  femenino           no\n"
          ]
        }
      ]
    }
  ]
}